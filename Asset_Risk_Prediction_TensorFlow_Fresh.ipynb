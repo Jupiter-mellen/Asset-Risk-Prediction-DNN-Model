{
 "cells": [
  {
   "cell_type": "markdown",
   "id": "70035cc7",
   "metadata": {},
   "source": [
    "\n",
    "# Asset Risk Prediction — TensorFlow DNN (AI4I 2020)\n",
    "\n",
    "End-to-end notebook to build a **predictive maintenance / asset-risk** classifier using a **TensorFlow** deep neural network on the **AI4I 2020 Predictive Maintenance** dataset.\n",
    "\n",
    "**What you get:**\n",
    "- One-click **environment setup** with pinned, compatible package versions\n",
    "- **Data fetch** from UCI via `ucimlrepo` (with simple fallback option)\n",
    "- **Feature engineering** (temperature deltas, power proxy, wear ratios)\n",
    "- **Train/Validation/Test** split with **class weighting** for imbalance\n",
    "- **TensorFlow** model with dropout + batch normalisation + early stopping\n",
    "- **ROC** & **Precision–Recall** curves, **calibration curve**, confusion matrix\n",
    "- Exported **risk report** CSV, saved **model** and **metrics** for your repo\n"
   ]
  },
  {
   "cell_type": "markdown",
   "id": "99a15de3",
   "metadata": {},
   "source": [
    "\n",
    "## 1. Environment Setup\n",
    "Run this cell first. It ensures TensorFlow and friends are installed in versions that play nicely together.\n"
   ]
  },
  {
   "cell_type": "code",
   "execution_count": 15,
   "id": "e07723a7",
   "metadata": {},
   "outputs": [],
   "source": [
    "\n",
    "# import sys, subprocess, pkgutil\n",
    "\n",
    "# def pip_install(*args):\n",
    "#     cmd = [sys.executable, \"-m\", \"pip\", \"install\", *args]\n",
    "#     print(\"Running:\", \" \".join(cmd))\n",
    "#     subprocess.check_call(cmd)\n",
    "\n",
    "# # Upgrade pip, then install pinned, compatible versions\n",
    "# pip_install(\"--upgrade\", \"pip\", \"wheel\", \"setuptools\")\n",
    "# pip_install(\"numpy<2.0\", \"tensorflow==2.16.1\", \"scikit-learn\", \"pandas\", \"matplotlib\", \"seaborn\", \"joblib\", \"ucimlrepo\")\n"
   ]
  },
  {
   "cell_type": "markdown",
   "id": "32ba5c61",
   "metadata": {},
   "source": [
    "\n",
    "## 2. Imports & Version Check\n"
   ]
  },
  {
   "cell_type": "code",
   "execution_count": 16,
   "id": "51fb83cf",
   "metadata": {},
   "outputs": [
    {
     "name": "stdout",
     "output_type": "stream",
     "text": [
      "Python: 3.13.7 (tags/v3.13.7:bcee1c3, Aug 14 2025, 14:15:11) [MSC v.1944 64 bit (AMD64)]\n",
      "NumPy: 2.3.2\n",
      "TensorFlow: 2.20.0\n"
     ]
    }
   ],
   "source": [
    "\n",
    "import os, sys, math, json, textwrap, warnings\n",
    "from pathlib import Path\n",
    "\n",
    "import numpy as np\n",
    "import pandas as pd\n",
    "import matplotlib.pyplot as plt\n",
    "import seaborn as sns\n",
    "\n",
    "from sklearn.model_selection import train_test_split\n",
    "from sklearn.metrics import (\n",
    "    roc_auc_score, average_precision_score, precision_recall_curve,\n",
    "    roc_curve, confusion_matrix, classification_report\n",
    ")\n",
    "from sklearn.preprocessing import OneHotEncoder, StandardScaler\n",
    "from sklearn.compose import ColumnTransformer\n",
    "from sklearn.isotonic import IsotonicRegression\n",
    "from sklearn.utils.class_weight import compute_class_weight\n",
    "\n",
    "import tensorflow as tf\n",
    "from tensorflow import keras\n",
    "from keras import layers\n",
    "\n",
    "from joblib import dump\n",
    "warnings.filterwarnings('ignore')\n",
    "plt.rcParams['figure.figsize'] = (8, 5)\n",
    "\n",
    "print(\"Python:\", sys.version)\n",
    "print(\"NumPy:\", np.__version__)\n",
    "print(\"TensorFlow:\", tf.__version__)\n"
   ]
  },
  {
   "cell_type": "markdown",
   "id": "c6912cf9",
   "metadata": {},
   "source": [
    "\n",
    "## 3. Paths & Output Folders\n"
   ]
  },
  {
   "cell_type": "code",
   "execution_count": 17,
   "id": "9a8c31fd",
   "metadata": {},
   "outputs": [],
   "source": [
    "\n",
    "ROOT = Path.cwd()\n",
    "OUT = ROOT / \"outputs\"\n",
    "OUT.mkdir(parents=True, exist_ok=True)\n"
   ]
  },
  {
   "cell_type": "markdown",
   "id": "6db0dcca",
   "metadata": {},
   "source": [
    "\n",
    "## 4. Load Dataset (UCI AI4I 2020)\n",
    "This uses `ucimlrepo` to fetch the dataset by ID (601). No manual download needed.\n"
   ]
  },
  {
   "cell_type": "code",
   "execution_count": 18,
   "id": "ce053b39",
   "metadata": {},
   "outputs": [
    {
     "name": "stdout",
     "output_type": "stream",
     "text": [
      "Features shape: (10000, 6) | Target shape: (10000,)\n"
     ]
    },
    {
     "data": {
      "text/html": [
       "<div>\n",
       "<style scoped>\n",
       "    .dataframe tbody tr th:only-of-type {\n",
       "        vertical-align: middle;\n",
       "    }\n",
       "\n",
       "    .dataframe tbody tr th {\n",
       "        vertical-align: top;\n",
       "    }\n",
       "\n",
       "    .dataframe thead th {\n",
       "        text-align: right;\n",
       "    }\n",
       "</style>\n",
       "<table border=\"1\" class=\"dataframe\">\n",
       "  <thead>\n",
       "    <tr style=\"text-align: right;\">\n",
       "      <th></th>\n",
       "      <th>col</th>\n",
       "    </tr>\n",
       "  </thead>\n",
       "  <tbody>\n",
       "    <tr>\n",
       "      <th>0</th>\n",
       "      <td>air_temp_k</td>\n",
       "    </tr>\n",
       "    <tr>\n",
       "      <th>1</th>\n",
       "      <td>proc_temp_k</td>\n",
       "    </tr>\n",
       "    <tr>\n",
       "      <th>2</th>\n",
       "      <td>rpm</td>\n",
       "    </tr>\n",
       "    <tr>\n",
       "      <th>3</th>\n",
       "      <td>torque_nm</td>\n",
       "    </tr>\n",
       "    <tr>\n",
       "      <th>4</th>\n",
       "      <td>tool_wear_min</td>\n",
       "    </tr>\n",
       "  </tbody>\n",
       "</table>\n",
       "</div>"
      ],
      "text/plain": [
       "             col\n",
       "0     air_temp_k\n",
       "1    proc_temp_k\n",
       "2            rpm\n",
       "3      torque_nm\n",
       "4  tool_wear_min"
      ]
     },
     "execution_count": 18,
     "metadata": {},
     "output_type": "execute_result"
    }
   ],
   "source": [
    "# Manual CSV loading\n",
    "import pandas as pd\n",
    "\n",
    "# Load the dataset from a local CSV file\n",
    "df = pd.read_csv('predictive_maintenance.csv')\n",
    "\n",
    "# Extract features and target\n",
    "feature_cols = ['Air temperature [K]', 'Process temperature [K]', 'Rotational speed [rpm]', \n",
    "               'Torque [Nm]', 'Tool wear [min]', 'Type']\n",
    "target_col = 'Target'  # Changed from 'Machine failure' to 'Target'\n",
    "\n",
    "X_raw = df[feature_cols].copy()\n",
    "X_raw.columns = ['air_temp_k', 'proc_temp_k', 'rpm', 'torque_nm', 'tool_wear_min', 'Type']\n",
    "y_raw = df[target_col].astype(int)\n",
    "\n",
    "print(\"Features shape:\", X_raw.shape, \"| Target shape:\", y_raw.shape)\n",
    "pd.DataFrame({\"col\": X_raw.columns}).head()"
   ]
  },
  {
   "cell_type": "markdown",
   "id": "9f40a487",
   "metadata": {},
   "source": [
    "\n",
    "## 5. Basic Cleaning & Feature Engineering\n",
    "Create simple domain features that often help: temperature delta, a crude power proxy (rpm × torque), and wear per power.\n"
   ]
  },
  {
   "cell_type": "code",
   "execution_count": 19,
   "id": "22481e51",
   "metadata": {},
   "outputs": [
    {
     "data": {
      "text/html": [
       "<div>\n",
       "<style scoped>\n",
       "    .dataframe tbody tr th:only-of-type {\n",
       "        vertical-align: middle;\n",
       "    }\n",
       "\n",
       "    .dataframe tbody tr th {\n",
       "        vertical-align: top;\n",
       "    }\n",
       "\n",
       "    .dataframe thead th {\n",
       "        text-align: right;\n",
       "    }\n",
       "</style>\n",
       "<table border=\"1\" class=\"dataframe\">\n",
       "  <thead>\n",
       "    <tr style=\"text-align: right;\">\n",
       "      <th></th>\n",
       "      <th>air_temp_k</th>\n",
       "      <th>proc_temp_k</th>\n",
       "      <th>temp_diff_k</th>\n",
       "      <th>rpm</th>\n",
       "      <th>torque_nm</th>\n",
       "      <th>power_proxy</th>\n",
       "      <th>tool_wear_min</th>\n",
       "      <th>wear_per_power</th>\n",
       "      <th>Type</th>\n",
       "      <th>failure</th>\n",
       "    </tr>\n",
       "  </thead>\n",
       "  <tbody>\n",
       "    <tr>\n",
       "      <th>0</th>\n",
       "      <td>298.1</td>\n",
       "      <td>308.6</td>\n",
       "      <td>10.5</td>\n",
       "      <td>1551</td>\n",
       "      <td>42.8</td>\n",
       "      <td>66382.8</td>\n",
       "      <td>0</td>\n",
       "      <td>0.000000</td>\n",
       "      <td>M</td>\n",
       "      <td>0</td>\n",
       "    </tr>\n",
       "    <tr>\n",
       "      <th>1</th>\n",
       "      <td>298.2</td>\n",
       "      <td>308.7</td>\n",
       "      <td>10.5</td>\n",
       "      <td>1408</td>\n",
       "      <td>46.3</td>\n",
       "      <td>65190.4</td>\n",
       "      <td>3</td>\n",
       "      <td>0.000046</td>\n",
       "      <td>L</td>\n",
       "      <td>0</td>\n",
       "    </tr>\n",
       "    <tr>\n",
       "      <th>2</th>\n",
       "      <td>298.1</td>\n",
       "      <td>308.5</td>\n",
       "      <td>10.4</td>\n",
       "      <td>1498</td>\n",
       "      <td>49.4</td>\n",
       "      <td>74001.2</td>\n",
       "      <td>5</td>\n",
       "      <td>0.000068</td>\n",
       "      <td>L</td>\n",
       "      <td>0</td>\n",
       "    </tr>\n",
       "    <tr>\n",
       "      <th>3</th>\n",
       "      <td>298.2</td>\n",
       "      <td>308.6</td>\n",
       "      <td>10.4</td>\n",
       "      <td>1433</td>\n",
       "      <td>39.5</td>\n",
       "      <td>56603.5</td>\n",
       "      <td>7</td>\n",
       "      <td>0.000124</td>\n",
       "      <td>L</td>\n",
       "      <td>0</td>\n",
       "    </tr>\n",
       "    <tr>\n",
       "      <th>4</th>\n",
       "      <td>298.2</td>\n",
       "      <td>308.7</td>\n",
       "      <td>10.5</td>\n",
       "      <td>1408</td>\n",
       "      <td>40.0</td>\n",
       "      <td>56320.0</td>\n",
       "      <td>9</td>\n",
       "      <td>0.000160</td>\n",
       "      <td>L</td>\n",
       "      <td>0</td>\n",
       "    </tr>\n",
       "  </tbody>\n",
       "</table>\n",
       "</div>"
      ],
      "text/plain": [
       "   air_temp_k  proc_temp_k  temp_diff_k   rpm  torque_nm  power_proxy  \\\n",
       "0       298.1        308.6         10.5  1551       42.8      66382.8   \n",
       "1       298.2        308.7         10.5  1408       46.3      65190.4   \n",
       "2       298.1        308.5         10.4  1498       49.4      74001.2   \n",
       "3       298.2        308.6         10.4  1433       39.5      56603.5   \n",
       "4       298.2        308.7         10.5  1408       40.0      56320.0   \n",
       "\n",
       "   tool_wear_min  wear_per_power Type  failure  \n",
       "0              0        0.000000    M        0  \n",
       "1              3        0.000046    L        0  \n",
       "2              5        0.000068    L        0  \n",
       "3              7        0.000124    L        0  \n",
       "4              9        0.000160    L        0  "
      ]
     },
     "execution_count": 19,
     "metadata": {},
     "output_type": "execute_result"
    }
   ],
   "source": [
    "# Standardise column names for convenience\n",
    "X = X_raw.rename(columns={\n",
    "    'Air temperature': 'air_temp_k',\n",
    "    'Process temperature': 'proc_temp_k',\n",
    "    'Rotational speed': 'rpm',\n",
    "    'Torque': 'torque_nm',\n",
    "    'Tool wear': 'tool_wear_min',\n",
    "})\n",
    "\n",
    "# Categorical\n",
    "X['Type'] = X['Type'].astype('category')\n",
    "\n",
    "# Engineered features\n",
    "X['temp_diff_k']    = X['proc_temp_k'] - X['air_temp_k']\n",
    "X['power_proxy']    = X['rpm'] * X['torque_nm']\n",
    "X['wear_per_power'] = X['tool_wear_min'] / (X['power_proxy'] + 1e-6)\n",
    "\n",
    "numeric_features = [\n",
    "    'air_temp_k','proc_temp_k','temp_diff_k',\n",
    "    'rpm','torque_nm','power_proxy',\n",
    "    'tool_wear_min','wear_per_power'\n",
    "]\n",
    "categorical_features = ['Type']\n",
    "\n",
    "target = y_raw\n",
    "df = pd.concat([X[numeric_features + categorical_features], target.rename(\"failure\")], axis=1)\n",
    "df.head()"
   ]
  },
  {
   "cell_type": "markdown",
   "id": "a23ddb70",
   "metadata": {},
   "source": [
    "\n",
    "## 6. Quick EDA\n"
   ]
  },
  {
   "cell_type": "code",
   "execution_count": 20,
   "id": "8fafa043",
   "metadata": {},
   "outputs": [
    {
     "data": {
      "image/png": "[encoded data removed]",
      "text/plain": [
       "<Figure size 800x500 with 1 Axes>"
      ]
     },
     "metadata": {},
     "output_type": "display_data"
    },
    {
     "data": {
      "text/html": [
       "<div>\n",
       "<style scoped>\n",
       "    .dataframe tbody tr th:only-of-type {\n",
       "        vertical-align: middle;\n",
       "    }\n",
       "\n",
       "    .dataframe tbody tr th {\n",
       "        vertical-align: top;\n",
       "    }\n",
       "\n",
       "    .dataframe thead th {\n",
       "        text-align: right;\n",
       "    }\n",
       "</style>\n",
       "<table border=\"1\" class=\"dataframe\">\n",
       "  <thead>\n",
       "    <tr style=\"text-align: right;\">\n",
       "      <th></th>\n",
       "      <th>count</th>\n",
       "      <th>mean</th>\n",
       "      <th>std</th>\n",
       "      <th>min</th>\n",
       "      <th>25%</th>\n",
       "      <th>50%</th>\n",
       "      <th>75%</th>\n",
       "      <th>max</th>\n",
       "    </tr>\n",
       "  </thead>\n",
       "  <tbody>\n",
       "    <tr>\n",
       "      <th>air_temp_k</th>\n",
       "      <td>10000.0</td>\n",
       "      <td>300.004930</td>\n",
       "      <td>2.000259</td>\n",
       "      <td>295.3</td>\n",
       "      <td>298.300000</td>\n",
       "      <td>300.100000</td>\n",
       "      <td>301.500000</td>\n",
       "      <td>304.500000</td>\n",
       "    </tr>\n",
       "    <tr>\n",
       "      <th>proc_temp_k</th>\n",
       "      <td>10000.0</td>\n",
       "      <td>310.005560</td>\n",
       "      <td>1.483734</td>\n",
       "      <td>305.7</td>\n",
       "      <td>308.800000</td>\n",
       "      <td>310.100000</td>\n",
       "      <td>311.100000</td>\n",
       "      <td>313.800000</td>\n",
       "    </tr>\n",
       "    <tr>\n",
       "      <th>temp_diff_k</th>\n",
       "      <td>10000.0</td>\n",
       "      <td>10.000630</td>\n",
       "      <td>1.001094</td>\n",
       "      <td>7.6</td>\n",
       "      <td>9.300000</td>\n",
       "      <td>9.800000</td>\n",
       "      <td>11.000000</td>\n",
       "      <td>12.100000</td>\n",
       "    </tr>\n",
       "    <tr>\n",
       "      <th>rpm</th>\n",
       "      <td>10000.0</td>\n",
       "      <td>1538.776100</td>\n",
       "      <td>179.284096</td>\n",
       "      <td>1168.0</td>\n",
       "      <td>1423.000000</td>\n",
       "      <td>1503.000000</td>\n",
       "      <td>1612.000000</td>\n",
       "      <td>2886.000000</td>\n",
       "    </tr>\n",
       "    <tr>\n",
       "      <th>torque_nm</th>\n",
       "      <td>10000.0</td>\n",
       "      <td>39.986910</td>\n",
       "      <td>9.968934</td>\n",
       "      <td>3.8</td>\n",
       "      <td>33.200000</td>\n",
       "      <td>40.100000</td>\n",
       "      <td>46.800000</td>\n",
       "      <td>76.600000</td>\n",
       "    </tr>\n",
       "    <tr>\n",
       "      <th>power_proxy</th>\n",
       "      <td>10000.0</td>\n",
       "      <td>59967.147040</td>\n",
       "      <td>10193.093881</td>\n",
       "      <td>10966.8</td>\n",
       "      <td>53105.400000</td>\n",
       "      <td>59883.900000</td>\n",
       "      <td>66873.750000</td>\n",
       "      <td>99980.400000</td>\n",
       "    </tr>\n",
       "    <tr>\n",
       "      <th>tool_wear_min</th>\n",
       "      <td>10000.0</td>\n",
       "      <td>107.951000</td>\n",
       "      <td>63.654147</td>\n",
       "      <td>0.0</td>\n",
       "      <td>53.000000</td>\n",
       "      <td>108.000000</td>\n",
       "      <td>162.000000</td>\n",
       "      <td>253.000000</td>\n",
       "    </tr>\n",
       "    <tr>\n",
       "      <th>wear_per_power</th>\n",
       "      <td>10000.0</td>\n",
       "      <td>0.001859</td>\n",
       "      <td>0.001181</td>\n",
       "      <td>0.0</td>\n",
       "      <td>0.000881</td>\n",
       "      <td>0.001786</td>\n",
       "      <td>0.002717</td>\n",
       "      <td>0.013426</td>\n",
       "    </tr>\n",
       "  </tbody>\n",
       "</table>\n",
       "</div>"
      ],
      "text/plain": [
       "                  count          mean           std      min           25%  \\\n",
       "air_temp_k      10000.0    300.004930      2.000259    295.3    298.300000   \n",
       "proc_temp_k     10000.0    310.005560      1.483734    305.7    308.800000   \n",
       "temp_diff_k     10000.0     10.000630      1.001094      7.6      9.300000   \n",
       "rpm             10000.0   1538.776100    179.284096   1168.0   1423.000000   \n",
       "torque_nm       10000.0     39.986910      9.968934      3.8     33.200000   \n",
       "power_proxy     10000.0  59967.147040  10193.093881  10966.8  53105.400000   \n",
       "tool_wear_min   10000.0    107.951000     63.654147      0.0     53.000000   \n",
       "wear_per_power  10000.0      0.001859      0.001181      0.0      0.000881   \n",
       "\n",
       "                         50%           75%           max  \n",
       "air_temp_k        300.100000    301.500000    304.500000  \n",
       "proc_temp_k       310.100000    311.100000    313.800000  \n",
       "temp_diff_k         9.800000     11.000000     12.100000  \n",
       "rpm              1503.000000   1612.000000   2886.000000  \n",
       "torque_nm          40.100000     46.800000     76.600000  \n",
       "power_proxy     59883.900000  66873.750000  99980.400000  \n",
       "tool_wear_min     108.000000    162.000000    253.000000  \n",
       "wear_per_power      0.001786      0.002717      0.013426  "
      ]
     },
     "execution_count": 20,
     "metadata": {},
     "output_type": "execute_result"
    }
   ],
   "source": [
    "\n",
    "ax = df['failure'].value_counts().sort_index().plot(kind='bar')\n",
    "ax.set_xlabel('failure (0/1)'); ax.set_ylabel('count'); ax.set_title('Target Distribution')\n",
    "plt.show()\n",
    "\n",
    "df[numeric_features].describe().T\n"
   ]
  },
  {
   "cell_type": "markdown",
   "id": "8c2ae0ff",
   "metadata": {},
   "source": [
    "\n",
    "## 7. Train / Validation / Test Split\n"
   ]
  },
  {
   "cell_type": "code",
   "execution_count": 21,
   "id": "db1cce83",
   "metadata": {},
   "outputs": [
    {
     "data": {
      "text/plain": [
       "(6400, 1600, 2000)"
      ]
     },
     "execution_count": 21,
     "metadata": {},
     "output_type": "execute_result"
    }
   ],
   "source": [
    "\n",
    "X_all = df[numeric_features + categorical_features].copy()\n",
    "y_all = df['failure'].copy()\n",
    "\n",
    "X_train, X_test, y_train, y_test = train_test_split(\n",
    "    X_all, y_all, test_size=0.20, random_state=42, stratify=y_all\n",
    ")\n",
    "X_train, X_val, y_train, y_val = train_test_split(\n",
    "    X_train, y_train, test_size=0.20, random_state=42, stratify=y_train\n",
    ")\n",
    "\n",
    "len(X_train), len(X_val), len(X_test)\n"
   ]
  },
  {
   "cell_type": "markdown",
   "id": "de7574bf",
   "metadata": {},
   "source": [
    "\n",
    "## 8. Preprocessing\n",
    "Standardise numeric features, one-hot encode categorical `Type`, and build the final matrices.\n"
   ]
  },
  {
   "cell_type": "code",
   "execution_count": 22,
   "id": "02d840a6",
   "metadata": {},
   "outputs": [
    {
     "data": {
      "text/plain": [
       "((6400, 11), (1600, 11), (2000, 11))"
      ]
     },
     "execution_count": 22,
     "metadata": {},
     "output_type": "execute_result"
    }
   ],
   "source": [
    "\n",
    "pre_num = StandardScaler()\n",
    "pre_cat = OneHotEncoder(handle_unknown=\"ignore\", sparse_output=False)\n",
    "\n",
    "# Fit transforms\n",
    "X_train_num = pre_num.fit_transform(X_train[numeric_features])\n",
    "X_val_num   = pre_num.transform(X_val[numeric_features])\n",
    "X_test_num  = pre_num.transform(X_test[numeric_features])\n",
    "\n",
    "X_train_cat = pre_cat.fit_transform(X_train[categorical_features])\n",
    "X_val_cat   = pre_cat.transform(X_val[categorical_features])\n",
    "X_test_cat  = pre_cat.transform(X_test[categorical_features])\n",
    "\n",
    "# Concatenate\n",
    "import numpy as np\n",
    "Xtr = np.hstack([X_train_num, X_train_cat])\n",
    "Xva = np.hstack([X_val_num,   X_val_cat])\n",
    "Xte = np.hstack([X_test_num,  X_test_cat])\n",
    "\n",
    "feature_names = numeric_features + list(pre_cat.get_feature_names_out(categorical_features))\n",
    "Xtr.shape, Xva.shape, Xte.shape\n"
   ]
  },
  {
   "cell_type": "markdown",
   "id": "90708f68",
   "metadata": {},
   "source": [
    "\n",
    "## 9. Handle Class Imbalance\n",
    "Compute class weights so the model pays more attention to the minority class.\n"
   ]
  },
  {
   "cell_type": "code",
   "execution_count": 23,
   "id": "0f666cd1",
   "metadata": {},
   "outputs": [
    {
     "data": {
      "text/plain": [
       "{0: 0.5175481158013909, 1: 14.746543778801843}"
      ]
     },
     "execution_count": 23,
     "metadata": {},
     "output_type": "execute_result"
    }
   ],
   "source": [
    "\n",
    "classes = np.unique(y_train)\n",
    "weights = compute_class_weight(class_weight='balanced', classes=classes, y=y_train)\n",
    "class_weight = {int(c): float(w) for c, w in zip(classes, weights)}\n",
    "class_weight\n"
   ]
  },
  {
   "cell_type": "markdown",
   "id": "7610f9e3",
   "metadata": {},
   "source": [
    "\n",
    "## 10. TensorFlow Model — Build & Train\n",
    "Simple DNN with batch normalisation and dropout. We monitor validation loss and AUCs.\n"
   ]
  },
  {
   "cell_type": "code",
   "execution_count": 24,
   "id": "c8af37ee",
   "metadata": {},
   "outputs": [
    {
     "data": {
      "text/html": [
       "<pre style=\"white-space:pre;overflow-x:auto;line-height:normal;font-family:Menlo,'DejaVu Sans Mono',consolas,'Courier New',monospace\"><span style=\"font-weight: bold\">Model: \"asset_risk_dnn\"</span>\n",
       "</pre>\n"
      ],
      "text/plain": [
       "\u001b[1mModel: \"asset_risk_dnn\"\u001b[0m\n"
      ]
     },
     "metadata": {},
     "output_type": "display_data"
    },
    {
     "data": {
      "text/html": [
       "<pre style=\"white-space:pre;overflow-x:auto;line-height:normal;font-family:Menlo,'DejaVu Sans Mono',consolas,'Courier New',monospace\">┏━━━━━━━━━━━━━━━━━━━━━━━━━━━━━━━━━┳━━━━━━━━━━━━━━━━━━━━━━━━┳━━━━━━━━━━━━━━━┓\n",
       "┃<span style=\"font-weight: bold\"> Layer (type)                    </span>┃<span style=\"font-weight: bold\"> Output Shape           </span>┃<span style=\"font-weight: bold\">       Param # </span>┃\n",
       "┡━━━━━━━━━━━━━━━━━━━━━━━━━━━━━━━━━╇━━━━━━━━━━━━━━━━━━━━━━━━╇━━━━━━━━━━━━━━━┩\n",
       "│ features (<span style=\"color: #0087ff; text-decoration-color: #0087ff\">InputLayer</span>)           │ (<span style=\"color: #00d7ff; text-decoration-color: #00d7ff\">None</span>, <span style=\"color: #00af00; text-decoration-color: #00af00\">11</span>)             │             <span style=\"color: #00af00; text-decoration-color: #00af00\">0</span> │\n",
       "├─────────────────────────────────┼────────────────────────┼───────────────┤\n",
       "│ dense (<span style=\"color: #0087ff; text-decoration-color: #0087ff\">Dense</span>)                   │ (<span style=\"color: #00d7ff; text-decoration-color: #00d7ff\">None</span>, <span style=\"color: #00af00; text-decoration-color: #00af00\">128</span>)            │         <span style=\"color: #00af00; text-decoration-color: #00af00\">1,536</span> │\n",
       "├─────────────────────────────────┼────────────────────────┼───────────────┤\n",
       "│ batch_normalization             │ (<span style=\"color: #00d7ff; text-decoration-color: #00d7ff\">None</span>, <span style=\"color: #00af00; text-decoration-color: #00af00\">128</span>)            │           <span style=\"color: #00af00; text-decoration-color: #00af00\">512</span> │\n",
       "│ (<span style=\"color: #0087ff; text-decoration-color: #0087ff\">BatchNormalization</span>)            │                        │               │\n",
       "├─────────────────────────────────┼────────────────────────┼───────────────┤\n",
       "│ dropout (<span style=\"color: #0087ff; text-decoration-color: #0087ff\">Dropout</span>)               │ (<span style=\"color: #00d7ff; text-decoration-color: #00d7ff\">None</span>, <span style=\"color: #00af00; text-decoration-color: #00af00\">128</span>)            │             <span style=\"color: #00af00; text-decoration-color: #00af00\">0</span> │\n",
       "├─────────────────────────────────┼────────────────────────┼───────────────┤\n",
       "│ dense_1 (<span style=\"color: #0087ff; text-decoration-color: #0087ff\">Dense</span>)                 │ (<span style=\"color: #00d7ff; text-decoration-color: #00d7ff\">None</span>, <span style=\"color: #00af00; text-decoration-color: #00af00\">64</span>)             │         <span style=\"color: #00af00; text-decoration-color: #00af00\">8,256</span> │\n",
       "├─────────────────────────────────┼────────────────────────┼───────────────┤\n",
       "│ batch_normalization_1           │ (<span style=\"color: #00d7ff; text-decoration-color: #00d7ff\">None</span>, <span style=\"color: #00af00; text-decoration-color: #00af00\">64</span>)             │           <span style=\"color: #00af00; text-decoration-color: #00af00\">256</span> │\n",
       "│ (<span style=\"color: #0087ff; text-decoration-color: #0087ff\">BatchNormalization</span>)            │                        │               │\n",
       "├─────────────────────────────────┼────────────────────────┼───────────────┤\n",
       "│ dropout_1 (<span style=\"color: #0087ff; text-decoration-color: #0087ff\">Dropout</span>)             │ (<span style=\"color: #00d7ff; text-decoration-color: #00d7ff\">None</span>, <span style=\"color: #00af00; text-decoration-color: #00af00\">64</span>)             │             <span style=\"color: #00af00; text-decoration-color: #00af00\">0</span> │\n",
       "├─────────────────────────────────┼────────────────────────┼───────────────┤\n",
       "│ dense_2 (<span style=\"color: #0087ff; text-decoration-color: #0087ff\">Dense</span>)                 │ (<span style=\"color: #00d7ff; text-decoration-color: #00d7ff\">None</span>, <span style=\"color: #00af00; text-decoration-color: #00af00\">32</span>)             │         <span style=\"color: #00af00; text-decoration-color: #00af00\">2,080</span> │\n",
       "├─────────────────────────────────┼────────────────────────┼───────────────┤\n",
       "│ dense_3 (<span style=\"color: #0087ff; text-decoration-color: #0087ff\">Dense</span>)                 │ (<span style=\"color: #00d7ff; text-decoration-color: #00d7ff\">None</span>, <span style=\"color: #00af00; text-decoration-color: #00af00\">1</span>)              │            <span style=\"color: #00af00; text-decoration-color: #00af00\">33</span> │\n",
       "└─────────────────────────────────┴────────────────────────┴───────────────┘\n",
       "</pre>\n"
      ],
      "text/plain": [
       "┏━━━━━━━━━━━━━━━━━━━━━━━━━━━━━━━━━┳━━━━━━━━━━━━━━━━━━━━━━━━┳━━━━━━━━━━━━━━━┓\n",
       "┃\u001b[1m \u001b[0m\u001b[1mLayer (type)                   \u001b[0m\u001b[1m \u001b[0m┃\u001b[1m \u001b[0m\u001b[1mOutput Shape          \u001b[0m\u001b[1m \u001b[0m┃\u001b[1m \u001b[0m\u001b[1m      Param #\u001b[0m\u001b[1m \u001b[0m┃\n",
       "┡━━━━━━━━━━━━━━━━━━━━━━━━━━━━━━━━━╇━━━━━━━━━━━━━━━━━━━━━━━━╇━━━━━━━━━━━━━━━┩\n",
       "│ features (\u001b[38;5;33mInputLayer\u001b[0m)           │ (\u001b[38;5;45mNone\u001b[0m, \u001b[38;5;34m11\u001b[0m)             │             \u001b[38;5;34m0\u001b[0m │\n",
       "├─────────────────────────────────┼────────────────────────┼───────────────┤\n",
       "│ dense (\u001b[38;5;33mDense\u001b[0m)                   │ (\u001b[38;5;45mNone\u001b[0m, \u001b[38;5;34m128\u001b[0m)            │         \u001b[38;5;34m1,536\u001b[0m │\n",
       "├─────────────────────────────────┼────────────────────────┼───────────────┤\n",
       "│ batch_normalization             │ (\u001b[38;5;45mNone\u001b[0m, \u001b[38;5;34m128\u001b[0m)            │           \u001b[38;5;34m512\u001b[0m │\n",
       "│ (\u001b[38;5;33mBatchNormalization\u001b[0m)            │                        │               │\n",
       "├─────────────────────────────────┼────────────────────────┼───────────────┤\n",
       "│ dropout (\u001b[38;5;33mDropout\u001b[0m)               │ (\u001b[38;5;45mNone\u001b[0m, \u001b[38;5;34m128\u001b[0m)            │             \u001b[38;5;34m0\u001b[0m │\n",
       "├─────────────────────────────────┼────────────────────────┼───────────────┤\n",
       "│ dense_1 (\u001b[38;5;33mDense\u001b[0m)                 │ (\u001b[38;5;45mNone\u001b[0m, \u001b[38;5;34m64\u001b[0m)             │         \u001b[38;5;34m8,256\u001b[0m │\n",
       "├─────────────────────────────────┼────────────────────────┼───────────────┤\n",
       "│ batch_normalization_1           │ (\u001b[38;5;45mNone\u001b[0m, \u001b[38;5;34m64\u001b[0m)             │           \u001b[38;5;34m256\u001b[0m │\n",
       "│ (\u001b[38;5;33mBatchNormalization\u001b[0m)            │                        │               │\n",
       "├─────────────────────────────────┼────────────────────────┼───────────────┤\n",
       "│ dropout_1 (\u001b[38;5;33mDropout\u001b[0m)             │ (\u001b[38;5;45mNone\u001b[0m, \u001b[38;5;34m64\u001b[0m)             │             \u001b[38;5;34m0\u001b[0m │\n",
       "├─────────────────────────────────┼────────────────────────┼───────────────┤\n",
       "│ dense_2 (\u001b[38;5;33mDense\u001b[0m)                 │ (\u001b[38;5;45mNone\u001b[0m, \u001b[38;5;34m32\u001b[0m)             │         \u001b[38;5;34m2,080\u001b[0m │\n",
       "├─────────────────────────────────┼────────────────────────┼───────────────┤\n",
       "│ dense_3 (\u001b[38;5;33mDense\u001b[0m)                 │ (\u001b[38;5;45mNone\u001b[0m, \u001b[38;5;34m1\u001b[0m)              │            \u001b[38;5;34m33\u001b[0m │\n",
       "└─────────────────────────────────┴────────────────────────┴───────────────┘\n"
      ]
     },
     "metadata": {},
     "output_type": "display_data"
    },
    {
     "data": {
      "text/html": [
       "<pre style=\"white-space:pre;overflow-x:auto;line-height:normal;font-family:Menlo,'DejaVu Sans Mono',consolas,'Courier New',monospace\"><span style=\"font-weight: bold\"> Total params: </span><span style=\"color: #00af00; text-decoration-color: #00af00\">12,673</span> (49.50 KB)\n",
       "</pre>\n"
      ],
      "text/plain": [
       "\u001b[1m Total params: \u001b[0m\u001b[38;5;34m12,673\u001b[0m (49.50 KB)\n"
      ]
     },
     "metadata": {},
     "output_type": "display_data"
    },
    {
     "data": {
      "text/html": [
       "<pre style=\"white-space:pre;overflow-x:auto;line-height:normal;font-family:Menlo,'DejaVu Sans Mono',consolas,'Courier New',monospace\"><span style=\"font-weight: bold\"> Trainable params: </span><span style=\"color: #00af00; text-decoration-color: #00af00\">12,289</span> (48.00 KB)\n",
       "</pre>\n"
      ],
      "text/plain": [
       "\u001b[1m Trainable params: \u001b[0m\u001b[38;5;34m12,289\u001b[0m (48.00 KB)\n"
      ]
     },
     "metadata": {},
     "output_type": "display_data"
    },
    {
     "data": {
      "text/html": [
       "<pre style=\"white-space:pre;overflow-x:auto;line-height:normal;font-family:Menlo,'DejaVu Sans Mono',consolas,'Courier New',monospace\"><span style=\"font-weight: bold\"> Non-trainable params: </span><span style=\"color: #00af00; text-decoration-color: #00af00\">384</span> (1.50 KB)\n",
       "</pre>\n"
      ],
      "text/plain": [
       "\u001b[1m Non-trainable params: \u001b[0m\u001b[38;5;34m384\u001b[0m (1.50 KB)\n"
      ]
     },
     "metadata": {},
     "output_type": "display_data"
    }
   ],
   "source": [
    "\n",
    "tf.random.set_seed(42)\n",
    "inputs = keras.Input(shape=(Xtr.shape[1],), name=\"features\")\n",
    "x = layers.Dense(128, activation='relu')(inputs)\n",
    "x = layers.BatchNormalization()(x)\n",
    "x = layers.Dropout(0.25)(x)\n",
    "x = layers.Dense(64, activation='relu')(x)\n",
    "x = layers.BatchNormalization()(x)\n",
    "x = layers.Dropout(0.25)(x)\n",
    "x = layers.Dense(32, activation='relu')(x)\n",
    "outputs = layers.Dense(1, activation='sigmoid')(x)\n",
    "\n",
    "model = keras.Model(inputs=inputs, outputs=outputs, name=\"asset_risk_dnn\")\n",
    "model.compile(\n",
    "    optimizer=keras.optimizers.Adam(learning_rate=1e-3),\n",
    "    loss='binary_crossentropy',\n",
    "    metrics=[keras.metrics.AUC(name='auc', curve='ROC'),\n",
    "             keras.metrics.AUC(name='pr_auc', curve='PR')]\n",
    ")\n",
    "model.summary()\n"
   ]
  },
  {
   "cell_type": "code",
   "execution_count": 25,
   "id": "dbfd34ee",
   "metadata": {},
   "outputs": [
    {
     "name": "stdout",
     "output_type": "stream",
     "text": [
      "Epoch 1/100\n",
      "\u001b[1m25/25\u001b[0m \u001b[32m━━━━━━━━━━━━━━━━━━━━\u001b[0m\u001b[37m\u001b[0m \u001b[1m4s\u001b[0m 40ms/step - auc: 0.7932 - loss: 0.6879 - pr_auc: 0.2269 - val_auc: 0.9341 - val_loss: 0.5934 - val_pr_auc: 0.5441 - learning_rate: 0.0010\n",
      "Epoch 2/100\n",
      "\u001b[1m25/25\u001b[0m \u001b[32m━━━━━━━━━━━━━━━━━━━━\u001b[0m\u001b[37m\u001b[0m \u001b[1m0s\u001b[0m 13ms/step - auc: 0.9086 - loss: 0.4284 - pr_auc: 0.3778 - val_auc: 0.9430 - val_loss: 0.4603 - val_pr_auc: 0.5310 - learning_rate: 0.0010\n",
      "Epoch 3/100\n",
      "\u001b[1m25/25\u001b[0m \u001b[32m━━━━━━━━━━━━━━━━━━━━\u001b[0m\u001b[37m\u001b[0m \u001b[1m0s\u001b[0m 14ms/step - auc: 0.9330 - loss: 0.3505 - pr_auc: 0.4696 - val_auc: 0.9537 - val_loss: 0.3577 - val_pr_auc: 0.5997 - learning_rate: 0.0010\n",
      "Epoch 4/100\n",
      "\u001b[1m25/25\u001b[0m \u001b[32m━━━━━━━━━━━━━━━━━━━━\u001b[0m\u001b[37m\u001b[0m \u001b[1m0s\u001b[0m 14ms/step - auc: 0.9415 - loss: 0.3200 - pr_auc: 0.4808 - val_auc: 0.9518 - val_loss: 0.2737 - val_pr_auc: 0.5703 - learning_rate: 0.0010\n",
      "Epoch 5/100\n",
      "\u001b[1m25/25\u001b[0m \u001b[32m━━━━━━━━━━━━━━━━━━━━\u001b[0m\u001b[37m\u001b[0m \u001b[1m0s\u001b[0m 17ms/step - auc: 0.9518 - loss: 0.2888 - pr_auc: 0.5706 - val_auc: 0.9499 - val_loss: 0.2183 - val_pr_auc: 0.4998 - learning_rate: 0.0010\n",
      "Epoch 6/100\n",
      "\u001b[1m25/25\u001b[0m \u001b[32m━━━━━━━━━━━━━━━━━━━━\u001b[0m\u001b[37m\u001b[0m \u001b[1m0s\u001b[0m 15ms/step - auc: 0.9526 - loss: 0.2833 - pr_auc: 0.5352 - val_auc: 0.9540 - val_loss: 0.1784 - val_pr_auc: 0.6220 - learning_rate: 0.0010\n",
      "Epoch 7/100\n",
      "\u001b[1m25/25\u001b[0m \u001b[32m━━━━━━━━━━━━━━━━━━━━\u001b[0m\u001b[37m\u001b[0m \u001b[1m0s\u001b[0m 18ms/step - auc: 0.9589 - loss: 0.2636 - pr_auc: 0.5262 - val_auc: 0.9561 - val_loss: 0.1478 - val_pr_auc: 0.6266 - learning_rate: 0.0010\n",
      "Epoch 8/100\n",
      "\u001b[1m25/25\u001b[0m \u001b[32m━━━━━━━━━━━━━━━━━━━━\u001b[0m\u001b[37m\u001b[0m \u001b[1m0s\u001b[0m 16ms/step - auc: 0.9562 - loss: 0.2691 - pr_auc: 0.5751 - val_auc: 0.9560 - val_loss: 0.1335 - val_pr_auc: 0.6502 - learning_rate: 0.0010\n",
      "Epoch 9/100\n",
      "\u001b[1m25/25\u001b[0m \u001b[32m━━━━━━━━━━━━━━━━━━━━\u001b[0m\u001b[37m\u001b[0m \u001b[1m0s\u001b[0m 17ms/step - auc: 0.9603 - loss: 0.2576 - pr_auc: 0.5864 - val_auc: 0.9563 - val_loss: 0.1262 - val_pr_auc: 0.6454 - learning_rate: 0.0010\n",
      "Epoch 10/100\n",
      "\u001b[1m25/25\u001b[0m \u001b[32m━━━━━━━━━━━━━━━━━━━━\u001b[0m\u001b[37m\u001b[0m \u001b[1m1s\u001b[0m 21ms/step - auc: 0.9651 - loss: 0.2419 - pr_auc: 0.6087 - val_auc: 0.9542 - val_loss: 0.1164 - val_pr_auc: 0.6424 - learning_rate: 0.0010\n",
      "Epoch 11/100\n",
      "\u001b[1m25/25\u001b[0m \u001b[32m━━━━━━━━━━━━━━━━━━━━\u001b[0m\u001b[37m\u001b[0m \u001b[1m0s\u001b[0m 17ms/step - auc: 0.9620 - loss: 0.2461 - pr_auc: 0.6037 - val_auc: 0.9536 - val_loss: 0.1085 - val_pr_auc: 0.6659 - learning_rate: 0.0010\n",
      "Epoch 12/100\n",
      "\u001b[1m25/25\u001b[0m \u001b[32m━━━━━━━━━━━━━━━━━━━━\u001b[0m\u001b[37m\u001b[0m \u001b[1m0s\u001b[0m 12ms/step - auc: 0.9642 - loss: 0.2406 - pr_auc: 0.5921 - val_auc: 0.9531 - val_loss: 0.1043 - val_pr_auc: 0.6734 - learning_rate: 0.0010\n",
      "Epoch 13/100\n",
      "\u001b[1m25/25\u001b[0m \u001b[32m━━━━━━━━━━━━━━━━━━━━\u001b[0m\u001b[37m\u001b[0m \u001b[1m0s\u001b[0m 15ms/step - auc: 0.9671 - loss: 0.2342 - pr_auc: 0.6188 - val_auc: 0.9538 - val_loss: 0.1073 - val_pr_auc: 0.6639 - learning_rate: 0.0010\n",
      "Epoch 14/100\n",
      "\u001b[1m25/25\u001b[0m \u001b[32m━━━━━━━━━━━━━━━━━━━━\u001b[0m\u001b[37m\u001b[0m \u001b[1m1s\u001b[0m 12ms/step - auc: 0.9685 - loss: 0.2283 - pr_auc: 0.6067 - val_auc: 0.9551 - val_loss: 0.1069 - val_pr_auc: 0.6767 - learning_rate: 0.0010\n",
      "Epoch 15/100\n",
      "\u001b[1m25/25\u001b[0m \u001b[32m━━━━━━━━━━━━━━━━━━━━\u001b[0m\u001b[37m\u001b[0m \u001b[1m1s\u001b[0m 15ms/step - auc: 0.9702 - loss: 0.2222 - pr_auc: 0.6425 - val_auc: 0.9572 - val_loss: 0.1075 - val_pr_auc: 0.6997 - learning_rate: 0.0010\n",
      "Epoch 16/100\n",
      "\u001b[1m25/25\u001b[0m \u001b[32m━━━━━━━━━━━━━━━━━━━━\u001b[0m\u001b[37m\u001b[0m \u001b[1m0s\u001b[0m 12ms/step - auc: 0.9704 - loss: 0.2201 - pr_auc: 0.6100 - val_auc: 0.9589 - val_loss: 0.1049 - val_pr_auc: 0.7065 - learning_rate: 0.0010\n",
      "Epoch 17/100\n",
      "\u001b[1m25/25\u001b[0m \u001b[32m━━━━━━━━━━━━━━━━━━━━\u001b[0m\u001b[37m\u001b[0m \u001b[1m0s\u001b[0m 13ms/step - auc: 0.9665 - loss: 0.2349 - pr_auc: 0.5834 - val_auc: 0.9582 - val_loss: 0.1149 - val_pr_auc: 0.6974 - learning_rate: 0.0010\n",
      "Epoch 18/100\n",
      "\u001b[1m25/25\u001b[0m \u001b[32m━━━━━━━━━━━━━━━━━━━━\u001b[0m\u001b[37m\u001b[0m \u001b[1m0s\u001b[0m 11ms/step - auc: 0.9719 - loss: 0.2134 - pr_auc: 0.6541 - val_auc: 0.9552 - val_loss: 0.1110 - val_pr_auc: 0.6794 - learning_rate: 5.0000e-04\n",
      "Epoch 19/100\n",
      "\u001b[1m25/25\u001b[0m \u001b[32m━━━━━━━━━━━━━━━━━━━━\u001b[0m\u001b[37m\u001b[0m \u001b[1m0s\u001b[0m 13ms/step - auc: 0.9713 - loss: 0.2169 - pr_auc: 0.6448 - val_auc: 0.9558 - val_loss: 0.1182 - val_pr_auc: 0.6804 - learning_rate: 5.0000e-04\n",
      "Epoch 20/100\n",
      "\u001b[1m25/25\u001b[0m \u001b[32m━━━━━━━━━━━━━━━━━━━━\u001b[0m\u001b[37m\u001b[0m \u001b[1m0s\u001b[0m 11ms/step - auc: 0.9752 - loss: 0.2022 - pr_auc: 0.6742 - val_auc: 0.9592 - val_loss: 0.1227 - val_pr_auc: 0.7094 - learning_rate: 5.0000e-04\n",
      "Epoch 21/100\n",
      "\u001b[1m25/25\u001b[0m \u001b[32m━━━━━━━━━━━━━━━━━━━━\u001b[0m\u001b[37m\u001b[0m \u001b[1m0s\u001b[0m 12ms/step - auc: 0.9771 - loss: 0.1921 - pr_auc: 0.6705 - val_auc: 0.9574 - val_loss: 0.1161 - val_pr_auc: 0.7145 - learning_rate: 5.0000e-04\n",
      "Epoch 22/100\n",
      "\u001b[1m25/25\u001b[0m \u001b[32m━━━━━━━━━━━━━━━━━━━━\u001b[0m\u001b[37m\u001b[0m \u001b[1m0s\u001b[0m 11ms/step - auc: 0.9735 - loss: 0.2069 - pr_auc: 0.6510 - val_auc: 0.9591 - val_loss: 0.1270 - val_pr_auc: 0.7216 - learning_rate: 5.0000e-04\n"
     ]
    },
    {
     "data": {
      "image/png": "[encoded data removed]",
      "text/plain": [
       "<Figure size 800x500 with 1 Axes>"
      ]
     },
     "metadata": {},
     "output_type": "display_data"
    },
    {
     "data": {
      "image/png": "[encoded data removed]",
      "text/plain": [
       "<Figure size 800x500 with 1 Axes>"
      ]
     },
     "metadata": {},
     "output_type": "display_data"
    }
   ],
   "source": [
    "\n",
    "callbacks = [\n",
    "    keras.callbacks.EarlyStopping(patience=10, restore_best_weights=True, monitor='val_loss'),\n",
    "    keras.callbacks.ReduceLROnPlateau(factor=0.5, patience=5, min_lr=1e-5, monitor='val_loss')\n",
    "]\n",
    "\n",
    "hist = model.fit(\n",
    "    Xtr, y_train,\n",
    "    validation_data=(Xva, y_val),\n",
    "    epochs=100,\n",
    "    batch_size=256,\n",
    "    class_weight=class_weight,\n",
    "    callbacks=callbacks,\n",
    "    verbose=1\n",
    ")\n",
    "\n",
    "# Training curves\n",
    "hist_df = pd.DataFrame(hist.history)\n",
    "ax = hist_df[['loss','val_loss']].plot(title='Training / Validation Loss')\n",
    "ax.set_xlabel('epoch'); ax.set_ylabel('loss')\n",
    "plt.show()\n",
    "\n",
    "ax = hist_df[['auc','val_auc','pr_auc','val_pr_auc']].plot(title='AUC Metrics')\n",
    "ax.set_xlabel('epoch'); ax.set_ylabel('AUC')\n",
    "plt.show()\n"
   ]
  },
  {
   "cell_type": "markdown",
   "id": "05579d68",
   "metadata": {},
   "source": [
    "\n",
    "## 11. Evaluation on Test Set\n",
    "We compute ROC-AUC, PR-AUC, plot the curves, and show a confusion matrix at threshold 0.5.\n"
   ]
  },
  {
   "cell_type": "code",
   "execution_count": 26,
   "id": "81552b51",
   "metadata": {},
   "outputs": [
    {
     "name": "stdout",
     "output_type": "stream",
     "text": [
      "ROC AUC: 0.975 | PR AUC: 0.673\n"
     ]
    },
    {
     "data": {
      "image/png": "[encoded data removed]",
      "text/plain": [
       "<Figure size 800x500 with 1 Axes>"
      ]
     },
     "metadata": {},
     "output_type": "display_data"
    },
    {
     "data": {
      "image/png": "[encoded data removed]",
      "text/plain": [
       "<Figure size 800x500 with 1 Axes>"
      ]
     },
     "metadata": {},
     "output_type": "display_data"
    },
    {
     "name": "stdout",
     "output_type": "stream",
     "text": [
      "Confusion Matrix:\n",
      " [[1908   24]\n",
      " [  24   44]]\n",
      "\n",
      "Classification Report:\n",
      "               precision    recall  f1-score   support\n",
      "\n",
      "           0      0.988     0.988     0.988      1932\n",
      "           1      0.647     0.647     0.647        68\n",
      "\n",
      "    accuracy                          0.976      2000\n",
      "   macro avg      0.817     0.817     0.817      2000\n",
      "weighted avg      0.976     0.976     0.976      2000\n",
      "\n"
     ]
    }
   ],
   "source": [
    "\n",
    "from sklearn.metrics import PrecisionRecallDisplay, RocCurveDisplay\n",
    "\n",
    "proba = model.predict(Xte, verbose=0).ravel()\n",
    "\n",
    "roc = roc_auc_score(y_test, proba)\n",
    "pr  = average_precision_score(y_test, proba)\n",
    "print(f\"ROC AUC: {roc:.3f} | PR AUC: {pr:.3f}\")\n",
    "\n",
    "# ROC curve\n",
    "RocCurveDisplay.from_predictions(y_test, proba)\n",
    "plt.title('ROC Curve')\n",
    "plt.show()\n",
    "\n",
    "# PR curve\n",
    "PrecisionRecallDisplay.from_predictions(y_test, proba)\n",
    "plt.title('Precision–Recall Curve')\n",
    "plt.show()\n",
    "\n",
    "# Confusion matrix at 0.5\n",
    "pred = (proba >= 0.5).astype(int)\n",
    "cm = confusion_matrix(y_test, pred)\n",
    "print('Confusion Matrix:\\n', cm)\n",
    "print('\\nClassification Report:\\n', classification_report(y_test, pred, digits=3))\n"
   ]
  },
  {
   "cell_type": "markdown",
   "id": "e6a168a5",
   "metadata": {},
   "source": [
    "\n",
    "## 12. Probability Calibration (Isotonic)\n",
    "We calibrate probabilities using validation predictions, then evaluate again on the test set.\n"
   ]
  },
  {
   "cell_type": "code",
   "execution_count": 27,
   "id": "68e7431f",
   "metadata": {},
   "outputs": [
    {
     "data": {
      "image/png": "[encoded data removed]",
      "text/plain": [
       "<Figure size 800x500 with 1 Axes>"
      ]
     },
     "metadata": {},
     "output_type": "display_data"
    },
    {
     "name": "stdout",
     "output_type": "stream",
     "text": [
      "Calibrated ROC AUC: 0.972 | Calibrated PR AUC: 0.640\n"
     ]
    }
   ],
   "source": [
    "\n",
    "proba_val = model.predict(Xva, verbose=0).ravel()\n",
    "cal = IsotonicRegression(out_of_bounds='clip')\n",
    "cal.fit(proba_val, y_val)\n",
    "\n",
    "proba_cal = cal.predict(proba)\n",
    "\n",
    "# Calibration curve\n",
    "from sklearn.calibration import calibration_curve\n",
    "prob_true, prob_pred = calibration_curve(y_test, proba_cal, n_bins=10, strategy='quantile')\n",
    "plt.plot(prob_pred, prob_true, marker='o')\n",
    "plt.plot([0,1],[0,1],'--')\n",
    "plt.title('Calibration Curve (Isotonic)')\n",
    "plt.xlabel('Predicted probability'); plt.ylabel('Observed frequency')\n",
    "plt.show()\n",
    "\n",
    "roc_cal = roc_auc_score(y_test, proba_cal)\n",
    "pr_cal  = average_precision_score(y_test, proba_cal)\n",
    "print(f\"Calibrated ROC AUC: {roc_cal:.3f} | Calibrated PR AUC: {pr_cal:.3f}\")\n"
   ]
  },
  {
   "cell_type": "markdown",
   "id": "f9480459",
   "metadata": {},
   "source": [
    "\n",
    "## 13. Risk Report & Artifacts\n",
    "Export a ranked list of asset IDs with calibrated risk scores. Save the model, calibrator, and metrics.\n"
   ]
  },
  {
   "cell_type": "code",
   "execution_count": 28,
   "id": "dba739ce",
   "metadata": {},
   "outputs": [
    {
     "name": "stdout",
     "output_type": "stream",
     "text": [
      "Saved risk report to: C:\\Users\\mturo\\Desktop\\scc\\Asset-Risk-Prediction-DNN-Model\\outputs\\risk_report.csv\n",
      "Saved model, calibrator and metrics to: C:\\Users\\mturo\\Desktop\\scc\\Asset-Risk-Prediction-DNN-Model\\outputs\n"
     ]
    }
   ],
   "source": [
    "# Try to use 'UDI' as an ID if present\n",
    "id_series = X_raw['UDI'] if 'UDI' in X_raw.columns else pd.Series(X_test.index, index=X_test.index, name='id')\n",
    "ids_test = id_series.loc[X_test.index]\n",
    "\n",
    "risk_report = pd.DataFrame({\n",
    "    'id': ids_test.values,\n",
    "    'risk_score': proba_cal\n",
    "}).sort_values('risk_score', ascending=False)\n",
    "\n",
    "risk_path = OUT / \"risk_report.csv\"\n",
    "risk_report.to_csv(risk_path, index=False)\n",
    "print(\"Saved risk report to:\", risk_path.resolve())\n",
    "\n",
    "# Save model and calibrator - ADD .keras extension\n",
    "model_path = OUT / \"tf_model.keras\"\n",
    "model.save(model_path)\n",
    "dump(cal, OUT / \"isotonic_calibrator.joblib\")\n",
    "\n",
    "# Save metrics\n",
    "metrics_txt = OUT / \"metrics.txt\"\n",
    "metrics_txt.write_text(f\"\"\"Asset Risk Prediction — TensorFlow DNN\n",
    "ROC AUC (raw): {roc:.3f}\n",
    "PR  AUC (raw): {pr:.3f}\n",
    "ROC AUC (cal): {roc_cal:.3f}\n",
    "PR  AUC (cal): {pr_cal:.3f}\n",
    "Confusion matrix (0.5): {cm.tolist()}\n",
    "\"\"\", encoding=\"utf-8\")\n",
    "print(\"Saved model, calibrator and metrics to:\", OUT.resolve())"
   ]
  },
  {
   "cell_type": "code",
   "execution_count": 29,
   "id": "39bbd597",
   "metadata": {},
   "outputs": [
    {
     "data": {
      "text/html": [
       "<div>\n",
       "<style scoped>\n",
       "    .dataframe tbody tr th:only-of-type {\n",
       "        vertical-align: middle;\n",
       "    }\n",
       "\n",
       "    .dataframe tbody tr th {\n",
       "        vertical-align: top;\n",
       "    }\n",
       "\n",
       "    .dataframe thead th {\n",
       "        text-align: right;\n",
       "    }\n",
       "</style>\n",
       "<table border=\"1\" class=\"dataframe\">\n",
       "  <thead>\n",
       "    <tr style=\"text-align: right;\">\n",
       "      <th></th>\n",
       "      <th>air_temp_k</th>\n",
       "      <th>proc_temp_k</th>\n",
       "      <th>temp_diff_k</th>\n",
       "      <th>rpm</th>\n",
       "      <th>torque_nm</th>\n",
       "      <th>power_proxy</th>\n",
       "      <th>tool_wear_min</th>\n",
       "      <th>wear_per_power</th>\n",
       "      <th>Type</th>\n",
       "      <th>failure</th>\n",
       "    </tr>\n",
       "  </thead>\n",
       "  <tbody>\n",
       "    <tr>\n",
       "      <th>0</th>\n",
       "      <td>298.1</td>\n",
       "      <td>308.6</td>\n",
       "      <td>10.5</td>\n",
       "      <td>1551</td>\n",
       "      <td>42.8</td>\n",
       "      <td>66382.8</td>\n",
       "      <td>0</td>\n",
       "      <td>0.000000</td>\n",
       "      <td>M</td>\n",
       "      <td>0</td>\n",
       "    </tr>\n",
       "    <tr>\n",
       "      <th>1</th>\n",
       "      <td>298.2</td>\n",
       "      <td>308.7</td>\n",
       "      <td>10.5</td>\n",
       "      <td>1408</td>\n",
       "      <td>46.3</td>\n",
       "      <td>65190.4</td>\n",
       "      <td>3</td>\n",
       "      <td>0.000046</td>\n",
       "      <td>L</td>\n",
       "      <td>0</td>\n",
       "    </tr>\n",
       "    <tr>\n",
       "      <th>2</th>\n",
       "      <td>298.1</td>\n",
       "      <td>308.5</td>\n",
       "      <td>10.4</td>\n",
       "      <td>1498</td>\n",
       "      <td>49.4</td>\n",
       "      <td>74001.2</td>\n",
       "      <td>5</td>\n",
       "      <td>0.000068</td>\n",
       "      <td>L</td>\n",
       "      <td>0</td>\n",
       "    </tr>\n",
       "    <tr>\n",
       "      <th>3</th>\n",
       "      <td>298.2</td>\n",
       "      <td>308.6</td>\n",
       "      <td>10.4</td>\n",
       "      <td>1433</td>\n",
       "      <td>39.5</td>\n",
       "      <td>56603.5</td>\n",
       "      <td>7</td>\n",
       "      <td>0.000124</td>\n",
       "      <td>L</td>\n",
       "      <td>0</td>\n",
       "    </tr>\n",
       "    <tr>\n",
       "      <th>4</th>\n",
       "      <td>298.2</td>\n",
       "      <td>308.7</td>\n",
       "      <td>10.5</td>\n",
       "      <td>1408</td>\n",
       "      <td>40.0</td>\n",
       "      <td>56320.0</td>\n",
       "      <td>9</td>\n",
       "      <td>0.000160</td>\n",
       "      <td>L</td>\n",
       "      <td>0</td>\n",
       "    </tr>\n",
       "  </tbody>\n",
       "</table>\n",
       "</div>"
      ],
      "text/plain": [
       "   air_temp_k  proc_temp_k  temp_diff_k   rpm  torque_nm  power_proxy  \\\n",
       "0       298.1        308.6         10.5  1551       42.8      66382.8   \n",
       "1       298.2        308.7         10.5  1408       46.3      65190.4   \n",
       "2       298.1        308.5         10.4  1498       49.4      74001.2   \n",
       "3       298.2        308.6         10.4  1433       39.5      56603.5   \n",
       "4       298.2        308.7         10.5  1408       40.0      56320.0   \n",
       "\n",
       "   tool_wear_min  wear_per_power Type  failure  \n",
       "0              0        0.000000    M        0  \n",
       "1              3        0.000046    L        0  \n",
       "2              5        0.000068    L        0  \n",
       "3              7        0.000124    L        0  \n",
       "4              9        0.000160    L        0  "
      ]
     },
     "execution_count": 29,
     "metadata": {},
     "output_type": "execute_result"
    }
   ],
   "source": [
    "# Standardise column names for convenience\n",
    "X = X_raw.rename(columns={\n",
    "    'Air temperature': 'air_temp_k',\n",
    "    'Process temperature': 'proc_temp_k',\n",
    "    'Rotational speed': 'rpm',\n",
    "    'Torque': 'torque_nm',\n",
    "    'Tool wear': 'tool_wear_min',\n",
    "})\n",
    "\n",
    "# Categorical\n",
    "X['Type'] = X['Type'].astype('category')\n",
    "\n",
    "# Engineered features\n",
    "X['temp_diff_k']    = X['proc_temp_k'] - X['air_temp_k']\n",
    "X['power_proxy']    = X['rpm'] * X['torque_nm']\n",
    "X['wear_per_power'] = X['tool_wear_min'] / (X['power_proxy'] + 1e-6)\n",
    "\n",
    "numeric_features = [\n",
    "    'air_temp_k','proc_temp_k','temp_diff_k',\n",
    "    'rpm','torque_nm','power_proxy',\n",
    "    'tool_wear_min','wear_per_power'\n",
    "]\n",
    "categorical_features = ['Type']\n",
    "\n",
    "target = y_raw\n",
    "df = pd.concat([X[numeric_features + categorical_features], target.rename(\"failure\")], axis=1)\n",
    "df.head()"
   ]
  },
  {
   "cell_type": "markdown",
   "id": "36c81cf4",
   "metadata": {},
   "source": [
    "\n",
    "## 14. (Optional) Simple Permutation Importance\n",
    "Estimate feature influence by measuring PR-AUC drop when shuffling each feature (on the test set).\n"
   ]
  },
  {
   "cell_type": "code",
   "execution_count": 30,
   "id": "421d64bb",
   "metadata": {},
   "outputs": [
    {
     "data": {
      "text/html": [
       "<div>\n",
       "<style scoped>\n",
       "    .dataframe tbody tr th:only-of-type {\n",
       "        vertical-align: middle;\n",
       "    }\n",
       "\n",
       "    .dataframe tbody tr th {\n",
       "        vertical-align: top;\n",
       "    }\n",
       "\n",
       "    .dataframe thead th {\n",
       "        text-align: right;\n",
       "    }\n",
       "</style>\n",
       "<table border=\"1\" class=\"dataframe\">\n",
       "  <thead>\n",
       "    <tr style=\"text-align: right;\">\n",
       "      <th></th>\n",
       "      <th>feature</th>\n",
       "      <th>pr_auc_drop</th>\n",
       "    </tr>\n",
       "  </thead>\n",
       "  <tbody>\n",
       "    <tr>\n",
       "      <th>4</th>\n",
       "      <td>torque_nm</td>\n",
       "      <td>0.400760</td>\n",
       "    </tr>\n",
       "    <tr>\n",
       "      <th>3</th>\n",
       "      <td>rpm</td>\n",
       "      <td>0.296007</td>\n",
       "    </tr>\n",
       "    <tr>\n",
       "      <th>2</th>\n",
       "      <td>temp_diff_k</td>\n",
       "      <td>0.208047</td>\n",
       "    </tr>\n",
       "    <tr>\n",
       "      <th>5</th>\n",
       "      <td>power_proxy</td>\n",
       "      <td>0.169770</td>\n",
       "    </tr>\n",
       "    <tr>\n",
       "      <th>6</th>\n",
       "      <td>tool_wear_min</td>\n",
       "      <td>0.143701</td>\n",
       "    </tr>\n",
       "    <tr>\n",
       "      <th>0</th>\n",
       "      <td>air_temp_k</td>\n",
       "      <td>0.143398</td>\n",
       "    </tr>\n",
       "    <tr>\n",
       "      <th>7</th>\n",
       "      <td>wear_per_power</td>\n",
       "      <td>0.104319</td>\n",
       "    </tr>\n",
       "    <tr>\n",
       "      <th>9</th>\n",
       "      <td>Type_L</td>\n",
       "      <td>0.017717</td>\n",
       "    </tr>\n",
       "    <tr>\n",
       "      <th>10</th>\n",
       "      <td>Type_M</td>\n",
       "      <td>-0.002509</td>\n",
       "    </tr>\n",
       "    <tr>\n",
       "      <th>8</th>\n",
       "      <td>Type_H</td>\n",
       "      <td>-0.006413</td>\n",
       "    </tr>\n",
       "  </tbody>\n",
       "</table>\n",
       "</div>"
      ],
      "text/plain": [
       "           feature  pr_auc_drop\n",
       "4        torque_nm     0.400760\n",
       "3              rpm     0.296007\n",
       "2      temp_diff_k     0.208047\n",
       "5      power_proxy     0.169770\n",
       "6    tool_wear_min     0.143701\n",
       "0       air_temp_k     0.143398\n",
       "7   wear_per_power     0.104319\n",
       "9           Type_L     0.017717\n",
       "10          Type_M    -0.002509\n",
       "8           Type_H    -0.006413"
      ]
     },
     "execution_count": 30,
     "metadata": {},
     "output_type": "execute_result"
    }
   ],
   "source": [
    "\n",
    "def pr_auc_drop_on_shuffle(X_matrix, y_true, base_proba, n_repeats=3, seed=42):\n",
    "    rng = np.random.default_rng(seed)\n",
    "    base = average_precision_score(y_true, base_proba)\n",
    "    drops = []\n",
    "    for j, name in enumerate(feature_names):\n",
    "        scores = []\n",
    "        for _ in range(n_repeats):\n",
    "            Xp = X_matrix.copy()\n",
    "            rng.shuffle(Xp[:, j])\n",
    "            p = model.predict(Xp, verbose=0).ravel()\n",
    "            p = cal.predict(p)\n",
    "            scores.append(average_precision_score(y_true, p))\n",
    "        drops.append((name, base - float(np.mean(scores))))\n",
    "    return pd.DataFrame(drops, columns=['feature','pr_auc_drop']).sort_values('pr_auc_drop', ascending=False)\n",
    "\n",
    "perm_importance = pr_auc_drop_on_shuffle(Xte, y_test.values, proba_cal, n_repeats=3)\n",
    "perm_importance.head(10)\n"
   ]
  },
  {
   "cell_type": "markdown",
   "id": "7e55a207",
   "metadata": {},
   "source": [
    "\n",
    "## 15. Summary (Copy for README)\n",
    "Trained a **TensorFlow** deep neural network on the **AI4I 2020** dataset to predict asset failures.  \n",
    "Engineered rolling-window–style features (temperature deltas, load proxy, wear ratios), handled class imbalance with **class weights**, and evaluated with **ROC-AUC** and **PR-AUC**.  \n",
    "Applied **isotonic calibration** to produce well-calibrated risk scores and exported a **ranked at-risk assets report** along with saved model artifacts.\n"
   ]
  }
 ],
 "metadata": {
  "kernelspec": {
   "display_name": "Python 3",
   "language": "python",
   "name": "python3"
  },
  "language_info": {
   "codemirror_mode": {
    "name": "ipython",
    "version": 3
   },
   "file_extension": ".py",
   "mimetype": "text/x-python",
   "name": "python",
   "nbconvert_exporter": "python",
   "pygments_lexer": "ipython3",
   "version": "3.13.7"
  }
 },
 "nbformat": 4,
 "nbformat_minor": 5
}
